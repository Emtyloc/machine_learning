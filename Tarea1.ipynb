{
 "cells": [
  {
   "cell_type": "code",
   "execution_count": 5,
   "metadata": {},
   "outputs": [],
   "source": [
    "import tensorflow.keras.datasets as datasets\n",
    "import matplotlib.pyplot as plt\n",
    "import numpy as np\n",
    "from skimage.feature import hog\n",
    "import linear_models.softmaxreg as softmaxreg\n",
    "import umap\n",
    "import matplotlib.pyplot as plt\n",
    "import numpy as np\n",
    "import metrics.metrics as metrics"
   ]
  },
  {
   "cell_type": "code",
   "execution_count": 6,
   "metadata": {},
   "outputs": [],
   "source": [
    "def getSample(n_rows, n_cols, data):\n",
    "    size = 28\n",
    "    image = np.ones((n_rows*size, n_cols*size), dtype = np.uint8)*255\n",
    "    n = n_rows * n_cols\n",
    "    idx = np.random.randint(data.shape[0], size = n)\n",
    "    \n",
    "    i = 0\n",
    "    for r in np.arange(n_rows) :\n",
    "            for c in np.arange(n_cols) :\n",
    "                image[r * size:(r + 1) * size, c * size : (c + 1) * size] = data[idx[i], : , : ]\n",
    "                i = i + 1\n",
    "    \n",
    "    return image"
   ]
  },
  {
   "cell_type": "code",
   "execution_count": 7,
   "metadata": {},
   "outputs": [
    {
     "name": "stdout",
     "output_type": "stream",
     "text": [
      "(60000, 28, 28) uint8\n",
      "(10000, 28, 28) uint8\n",
      "(28, 28)\n"
     ]
    }
   ],
   "source": [
    "(x_train, y_train), (x_test, y_test) = datasets.mnist.load_data()\n",
    "print ('{} {}'.format(x_train.shape, x_train.dtype))\n",
    "print ('{} {}'.format(x_test.shape, x_train.dtype))\n",
    "digit = x_train[0,:,:]\n",
    "print(digit.shape)"
   ]
  },
  {
   "cell_type": "code",
   "execution_count": 8,
   "metadata": {},
   "outputs": [],
   "source": [
    "SM = softmaxreg.SoftmaxReg(10)"
   ]
  },
  {
   "cell_type": "code",
   "execution_count": null,
   "metadata": {},
   "outputs": [],
   "source": [
    "#DATA NORMALIZATION (tira error por alguna division por 0)\n",
    "# mu = np.mean(x_train, axis=0)\n",
    "# dst = np.std(x_train, axis=0)\n",
    "# x_train = (x_train - mu) / dst\n",
    "# x_test = (x_test - mu ) / dst"
   ]
  },
  {
   "cell_type": "code",
   "execution_count": 13,
   "metadata": {},
   "outputs": [
    {
     "name": "stdout",
     "output_type": "stream",
     "text": [
      "it 0 acc 0.10318333333333334\n",
      "it 10 acc 0.66325\n",
      "it 20 acc 0.8716833333333334\n",
      "it 30 acc 0.8412166666666666\n",
      "it 40 acc 0.7999833333333334\n",
      "it 50 acc 0.8168166666666666\n",
      "it 60 acc 0.8924\n",
      "it 70 acc 0.7296833333333334\n",
      "it 80 acc 0.7715833333333333\n",
      "it 90 acc 0.89445\n",
      "it 100 acc 0.9032333333333333\n",
      "it 110 acc 0.8992\n",
      "it 120 acc 0.788\n",
      "it 130 acc 0.9051666666666667\n",
      "it 140 acc 0.9039\n",
      "it 150 acc 0.8073333333333333\n",
      "it 160 acc 0.8804\n",
      "it 170 acc 0.8849\n",
      "it 180 acc 0.9113166666666667\n",
      "it 190 acc 0.9142666666666667\n"
     ]
    }
   ],
   "source": [
    "x_train_d_728 = x_train.reshape(60000,-1)\n",
    "coeff = SM.fit(x_train_d_728, y_train)"
   ]
  },
  {
   "cell_type": "code",
   "execution_count": 14,
   "metadata": {},
   "outputs": [],
   "source": [
    "x_test_d_728 = x_test.reshape(10000,-1)\n",
    "y_pred = SM.predict(x_test_d_728)"
   ]
  },
  {
   "cell_type": "code",
   "execution_count": 15,
   "metadata": {},
   "outputs": [
    {
     "name": "stdout",
     "output_type": "stream",
     "text": [
      "Accuracy: 0.797\n"
     ]
    }
   ],
   "source": [
    "acc = metrics.multiclass_accuracy(y_test, y_pred)\n",
    "print(f\"Accuracy: {acc}\")"
   ]
  },
  {
   "cell_type": "code",
   "execution_count": 16,
   "metadata": {},
   "outputs": [
    {
     "name": "stdout",
     "output_type": "stream",
     "text": [
      "Confusion Matrix\n",
      "[[941   0   0   1   0   1   6   4  27   0]\n",
      " [  0 941   2   0   0   0   2   2 188   0]\n",
      " [  8   8 800   5   6   0  13  13 176   3]\n",
      " [  5   1   9 655   1   7   2  16 312   2]\n",
      " [  1   0   1   1 862   0   9   3  95  10]\n",
      " [ 10   2   2  14  10 388  12  10 441   3]\n",
      " [ 15   2   0   1  15   5 845   3  72   0]\n",
      " [  1   4  11   4   7   0   0 954  37  10]\n",
      " [  2   0   0   1   4   1   2   2 962   0]\n",
      " [  6   3   0   2  36   1   0  61 278 622]]\n"
     ]
    }
   ],
   "source": [
    "cm = metrics.confusion_matrix(y_test, y_pred, 10)\n",
    "print(f'Confusion Matrix\\n{cm}')"
   ]
  }
 ],
 "metadata": {
  "kernelspec": {
   "display_name": "Python 3",
   "language": "python",
   "name": "python3"
  },
  "language_info": {
   "codemirror_mode": {
    "name": "ipython",
    "version": 3
   },
   "file_extension": ".py",
   "mimetype": "text/x-python",
   "name": "python",
   "nbconvert_exporter": "python",
   "pygments_lexer": "ipython3",
   "version": "3.10.4"
  },
  "orig_nbformat": 4
 },
 "nbformat": 4,
 "nbformat_minor": 2
}
